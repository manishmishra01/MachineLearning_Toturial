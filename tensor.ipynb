{
 "cells": [
  {
   "cell_type": "code",
   "execution_count": 3,
   "id": "8e623d0e-1e5c-469f-b57a-21d98545f4e9",
   "metadata": {},
   "outputs": [],
   "source": [
    "import numpy as np"
   ]
  },
  {
   "cell_type": "markdown",
   "id": "ac5595db-f7d0-4b58-893f-128c0c1d7848",
   "metadata": {},
   "source": [
    "# create 1d tensor"
   ]
  },
  {
   "cell_type": "code",
   "execution_count": 17,
   "id": "2cd74eda-ec08-47fe-b9df-6a17d00b3dea",
   "metadata": {},
   "outputs": [],
   "source": [
    "arr=np.array([0,2,3,5,7,8,9])"
   ]
  },
  {
   "cell_type": "code",
   "execution_count": 19,
   "id": "c9667990-db06-493c-8161-71ed5d202acf",
   "metadata": {},
   "outputs": [
    {
     "data": {
      "text/plain": [
       "array([0, 2, 3, 5, 7, 8, 9])"
      ]
     },
     "execution_count": 19,
     "metadata": {},
     "output_type": "execute_result"
    }
   ],
   "source": [
    "arr"
   ]
  },
  {
   "cell_type": "code",
   "execution_count": 21,
   "id": "e9dbce7d-9c38-418e-9bd5-d1a7f60ed221",
   "metadata": {},
   "outputs": [
    {
     "data": {
      "text/plain": [
       "1"
      ]
     },
     "execution_count": 21,
     "metadata": {},
     "output_type": "execute_result"
    }
   ],
   "source": [
    "arr.ndim"
   ]
  },
  {
   "cell_type": "markdown",
   "id": "a2f760e2-8319-42bf-91bf-9304293298de",
   "metadata": {},
   "source": [
    "# create 2d tensor"
   ]
  },
  {
   "cell_type": "code",
   "execution_count": 29,
   "id": "cb18a72e-32c5-466c-9e55-f8c5ab257603",
   "metadata": {},
   "outputs": [],
   "source": [
    "arr2=np.array([[0,1],[2,3],[23,34]])"
   ]
  },
  {
   "cell_type": "code",
   "execution_count": 31,
   "id": "48efbb0f-8e52-4005-8f92-47ac9b043604",
   "metadata": {},
   "outputs": [
    {
     "data": {
      "text/plain": [
       "array([[ 0,  1],\n",
       "       [ 2,  3],\n",
       "       [23, 34]])"
      ]
     },
     "execution_count": 31,
     "metadata": {},
     "output_type": "execute_result"
    }
   ],
   "source": [
    "arr2"
   ]
  },
  {
   "cell_type": "code",
   "execution_count": 33,
   "id": "ca71cdb3-4080-463b-98fd-55ae1e0f8edb",
   "metadata": {},
   "outputs": [
    {
     "data": {
      "text/plain": [
       "2"
      ]
     },
     "execution_count": 33,
     "metadata": {},
     "output_type": "execute_result"
    }
   ],
   "source": [
    "arr2.ndim"
   ]
  },
  {
   "cell_type": "code",
   "execution_count": 35,
   "id": "b560bc0d-3808-4b13-afb2-c264e52b5707",
   "metadata": {},
   "outputs": [
    {
     "data": {
      "text/plain": [
       "6"
      ]
     },
     "execution_count": 35,
     "metadata": {},
     "output_type": "execute_result"
    }
   ],
   "source": [
    "arr2.size"
   ]
  },
  {
   "cell_type": "code",
   "execution_count": 37,
   "id": "b4b3886b-fbaa-479e-96a4-2e6e0c0ad9d8",
   "metadata": {},
   "outputs": [
    {
     "data": {
      "text/plain": [
       "(3, 2)"
      ]
     },
     "execution_count": 37,
     "metadata": {},
     "output_type": "execute_result"
    }
   ],
   "source": [
    "arr2.shape"
   ]
  },
  {
   "cell_type": "markdown",
   "id": "01801d20-2e9b-43cd-8745-fa1163867b8a",
   "metadata": {},
   "source": [
    "# 3d tensor"
   ]
  },
  {
   "cell_type": "code",
   "execution_count": 39,
   "id": "d99301b0-954b-4ad0-b0e1-1925ac0f227c",
   "metadata": {},
   "outputs": [],
   "source": [
    "tensor=np.array([\n",
    "    [  # Shelf 1\n",
    "        [1, 2, 3, 4],  # Book 1\n",
    "        [5, 6, 7, 8],  # Book 2\n",
    "        [9, 10,11, 12]  # Book 3\n",
    "    ],\n",
    "    [  # Shelf 2\n",
    "        [13, 14, 15, 16],  # Book 4\n",
    "        [17, 18, 19, 20],  # Book 5\n",
    "        [21, 22, 23, 24]  # Book 6\n",
    "    ]\n",
    "]\n",
    ")"
   ]
  },
  {
   "cell_type": "code",
   "execution_count": 41,
   "id": "9017e1f7-fffa-4654-941c-c03a84c23045",
   "metadata": {},
   "outputs": [
    {
     "data": {
      "text/plain": [
       "array([[[ 1,  2,  3,  4],\n",
       "        [ 5,  6,  7,  8],\n",
       "        [ 9, 10, 11, 12]],\n",
       "\n",
       "       [[13, 14, 15, 16],\n",
       "        [17, 18, 19, 20],\n",
       "        [21, 22, 23, 24]]])"
      ]
     },
     "execution_count": 41,
     "metadata": {},
     "output_type": "execute_result"
    }
   ],
   "source": [
    "tensor"
   ]
  },
  {
   "cell_type": "code",
   "execution_count": 43,
   "id": "2390816e-d1d8-4d6d-bf61-ee8a0e454a22",
   "metadata": {},
   "outputs": [
    {
     "data": {
      "text/plain": [
       "3"
      ]
     },
     "execution_count": 43,
     "metadata": {},
     "output_type": "execute_result"
    }
   ],
   "source": [
    "tensor.ndim"
   ]
  },
  {
   "cell_type": "code",
   "execution_count": 45,
   "id": "c8dc9f34-6cca-4efe-b698-d1bd3995ca93",
   "metadata": {},
   "outputs": [
    {
     "data": {
      "text/plain": [
       "(2, 3, 4)"
      ]
     },
     "execution_count": 45,
     "metadata": {},
     "output_type": "execute_result"
    }
   ],
   "source": [
    "tensor.shape"
   ]
  },
  {
   "cell_type": "code",
   "execution_count": 47,
   "id": "fbe05696-58e4-405a-b94c-6e09789a75ef",
   "metadata": {},
   "outputs": [
    {
     "data": {
      "text/plain": [
       "24"
      ]
     },
     "execution_count": 47,
     "metadata": {},
     "output_type": "execute_result"
    }
   ],
   "source": [
    "tensor.size"
   ]
  },
  {
   "cell_type": "code",
   "execution_count": 63,
   "id": "2a0f79e6-cdc5-4a7c-95da-d76c9c23acc9",
   "metadata": {},
   "outputs": [],
   "source": [
    "tensor1=np.array([\n",
    "\n",
    "               [\n",
    "                 [1,2,3,4],\n",
    "                 [2,3,4,5],\n",
    "                 [4,3,5,6]  \n",
    "                   \n",
    "               ],\n",
    "               \n",
    "               [\n",
    "                 [1,0,3,0],\n",
    "                 [2,87,4,5],\n",
    "                 [4,2,5,6] \n",
    "               ]\n",
    "    \n",
    "]\n",
    "                )\n",
    "                 \n",
    "    \n",
    "   "
   ]
  },
  {
   "cell_type": "code",
   "execution_count": 65,
   "id": "f1c97229-468c-4a84-b9c2-330aa4fdadda",
   "metadata": {},
   "outputs": [
    {
     "data": {
      "text/plain": [
       "array([[[ 1,  2,  3,  4],\n",
       "        [ 2,  3,  4,  5],\n",
       "        [ 4,  3,  5,  6]],\n",
       "\n",
       "       [[ 1,  0,  3,  0],\n",
       "        [ 2, 87,  4,  5],\n",
       "        [ 4,  2,  5,  6]]])"
      ]
     },
     "execution_count": 65,
     "metadata": {},
     "output_type": "execute_result"
    }
   ],
   "source": [
    "tensor1"
   ]
  },
  {
   "cell_type": "code",
   "execution_count": 67,
   "id": "86c87d87-cf3c-4de2-9f27-20e2ae6968d8",
   "metadata": {},
   "outputs": [
    {
     "data": {
      "text/plain": [
       "(2, 3, 4)"
      ]
     },
     "execution_count": 67,
     "metadata": {},
     "output_type": "execute_result"
    }
   ],
   "source": [
    "tensor1.shape"
   ]
  },
  {
   "cell_type": "code",
   "execution_count": null,
   "id": "bd4b649b-e134-448d-8f86-4d3efda40e50",
   "metadata": {},
   "outputs": [],
   "source": []
  }
 ],
 "metadata": {
  "kernelspec": {
   "display_name": "Python 3 (ipykernel)",
   "language": "python",
   "name": "python3"
  },
  "language_info": {
   "codemirror_mode": {
    "name": "ipython",
    "version": 3
   },
   "file_extension": ".py",
   "mimetype": "text/x-python",
   "name": "python",
   "nbconvert_exporter": "python",
   "pygments_lexer": "ipython3",
   "version": "3.12.4"
  }
 },
 "nbformat": 4,
 "nbformat_minor": 5
}
